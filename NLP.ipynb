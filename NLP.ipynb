{
  "nbformat": 4,
  "nbformat_minor": 0,
  "metadata": {
    "colab": {
      "name": "NLP.ipynb",
      "provenance": [],
      "collapsed_sections": [],
      "authorship_tag": "ABX9TyOOafSIVeNPst0PSURWn0Pj",
      "include_colab_link": true
    },
    "kernelspec": {
      "name": "python3",
      "display_name": "Python 3"
    },
    "language_info": {
      "name": "python"
    }
  },
  "cells": [
    {
      "cell_type": "markdown",
      "metadata": {
        "id": "view-in-github",
        "colab_type": "text"
      },
      "source": [
        "<a href=\"https://colab.research.google.com/github/mathsz08/corretor_ortografico_pt1/blob/main/NLP.ipynb\" target=\"_parent\"><img src=\"https://colab.research.google.com/assets/colab-badge.svg\" alt=\"Open In Colab\"/></a>"
      ]
    },
    {
      "cell_type": "code",
      "metadata": {
        "colab": {
          "base_uri": "https://localhost:8080/"
        },
        "id": "bQzMTy4ZhsUU",
        "outputId": "f8eb3b2b-9c83-4c2b-da17-103ef1c0d842"
      },
      "source": [
        "import nltk \n",
        "with open(\"artigos.txt\",'r') as f:\n",
        "  artigos = f.read()\n",
        "print(artigos[:500])"
      ],
      "execution_count": null,
      "outputs": [
        {
          "output_type": "stream",
          "text": [
            "\n",
            "\n",
            "\n",
            "imagem \n",
            "\n",
            "Temos a seguinte classe que representa um usuário no nosso sistema:\n",
            "\n",
            "java\n",
            "\n",
            "Para salvar um novo usuário, várias validações são feitas, como por exemplo: Ver se o nome só contém letras, [**o CPF só números**] e ver se o usuário possui no mínimo 18 anos. Veja o método que faz essa validação:\n",
            "\n",
            "java \n",
            "\n",
            "Suponha agora que eu tenha outra classe, a classe `Produto`, que contém um atributo nome e eu quero fazer a mesma validação que fiz para o nome do usuário: Ver se só contém letras. E aí? Vou\n"
          ],
          "name": "stdout"
        }
      ]
    },
    {
      "cell_type": "code",
      "metadata": {
        "colab": {
          "base_uri": "https://localhost:8080/"
        },
        "id": "6RJN0wRwh2fV",
        "outputId": "1df7d82f-66c0-42a1-edd6-2bd7e6e0f65b"
      },
      "source": [
        "tokens = artigos.split()\n",
        "len(tokens)"
      ],
      "execution_count": null,
      "outputs": [
        {
          "output_type": "execute_result",
          "data": {
            "text/plain": [
              "416903"
            ]
          },
          "metadata": {
            "tags": []
          },
          "execution_count": 62
        }
      ]
    },
    {
      "cell_type": "code",
      "metadata": {
        "colab": {
          "base_uri": "https://localhost:8080/"
        },
        "id": "wUUlzF4ZoWQU",
        "outputId": "fc6b8149-8cf7-429b-d573-ea2057390d0e"
      },
      "source": [
        "print(tokens[:500])"
      ],
      "execution_count": null,
      "outputs": [
        {
          "output_type": "stream",
          "text": [
            "['imagem', 'Temos', 'a', 'seguinte', 'classe', 'que', 'representa', 'um', 'usuário', 'no', 'nosso', 'sistema:', 'java', 'Para', 'salvar', 'um', 'novo', 'usuário,', 'várias', 'validações', 'são', 'feitas,', 'como', 'por', 'exemplo:', 'Ver', 'se', 'o', 'nome', 'só', 'contém', 'letras,', '[**o', 'CPF', 'só', 'números**]', 'e', 'ver', 'se', 'o', 'usuário', 'possui', 'no', 'mínimo', '18', 'anos.', 'Veja', 'o', 'método', 'que', 'faz', 'essa', 'validação:', 'java', 'Suponha', 'agora', 'que', 'eu', 'tenha', 'outra', 'classe,', 'a', 'classe', '`Produto`,', 'que', 'contém', 'um', 'atributo', 'nome', 'e', 'eu', 'quero', 'fazer', 'a', 'mesma', 'validação', 'que', 'fiz', 'para', 'o', 'nome', 'do', 'usuário:', 'Ver', 'se', 'só', 'contém', 'letras.', 'E', 'aí?', 'Vou', 'criar', 'outro', 'método', 'para', 'fazer', 'a', 'mesma', 'validação?', 'Ou', 'criar', 'uma', 'interface', 'ou', 'uma', 'classe', 'que', 'tanto', '`Usuario`', 'quanto', '`Produto`', 'estendem?', 'Não', 'faz', 'muito', 'sentido', 'né?', 'Como', 'resolver', 'esse', 'caso', 'sem', 'repetir', 'código?', '##', 'Anotações', 'No', 'Java', '5', 'um', 'novo', 'recurso', 'foi', 'introduzido', 'à', 'linguagem,', 'as', 'anotações.', 'Elas', 'permitem', 'que', 'metadados', 'sejam', 'escritos', 'diretamente', 'no', 'código.', 'Metadados', 'são,', 'por', 'definição,', 'dados', 'que', 'fazem', 'referência', 'aos', 'próprios', 'dados.', 'Para', 'nos', 'ajudar', 'a', 'entender', 'o', 'conceito', 'de', 'metadados', 'vou', 'usar', 'a', 'definição', 'feita', 'pelo', 'autor', 'Eduardo', 'Guerra', 'no', 'livro', '[**Componentes', 'Reutilizáveis', 'em', 'Java', 'com', 'Reflexão', 'e', 'Anotações**]:', '>', '\"_No', 'contexto', 'da', 'orientação', 'a', 'objetos,', 'os', 'metadados', 'são', 'informações', 'sobre', 'os_', '_elementos', 'do', 'código.', 'Essas', 'informações', 'podem', 'ser', 'definidas', 'em', 'qualquer', 'meio,_', '_bastando', 'que', 'o', 'software', 'ou', 'componente', 'as', 'recupere', 'e', 'as', 'utilize', 'para', 'agregar', 'novas_', '_informações', 'nos', 'elementos', 'do', 'código.\"_', 'Perceba', 'que,', 'por', 'si', 'só,', 'anotações', 'não', 'fazem', 'nada.', 'Elas', 'precisam', 'que', 'a', 'aplicação', 'as', 'recupere', 'e', 'as', 'utilize,', 'para', 'que,', 'só', 'assim,', 'elas', 'consigam', 'nos', 'fornecer', 'algo', 'que', 'possamos', 'usar', 'para', 'realizar', 'alguma', 'tarefa.', 'Voltando', 'ao', 'nosso', 'problema,', 'vamos', 'criar', 'uma', 'anotação', 'para', 'validar', 'a', 'idade', 'mínina', 'do', 'usuário.', 'Para', 'isso,', 'vamos', 'anotar', 'nossa', 'classe:', 'java', 'Se', 'olharmos', 'nosso', 'código', 'perceberemos', 'que', 'ele', 'não', 'compila,', 'pois', 'falta', 'implementarmos', 'a', 'anotação', '`@IdadeMinina`.', 'Logo,', 'precisamos', 'criar', 'uma', 'nova', 'classe', 'com', 'o', 'nome', 'IdadeMinima:', 'java', 'Mas,', 'pensando', 'bem,', 'estamos', 'criando', 'uma', 'classe?', 'Não', 'estamos!', 'Portanto,', 'a', 'nomenclatura', 'é', 'diferente', 'para', 'uma', 'anotação.', 'A', 'forma', 'correta', 'seria:', 'java', 'Estranho,', 'né?', 'Mas', 'foi', 'o', 'jeito', 'que', 'o', 'pessoal', 'do', 'Java', 'fez', 'para', 'falar', 'que', 'esse', 'arquivo', 'se', 'trata', 'de', 'uma', 'anotação.', 'Agora', 'temos', 'que', 'anotar', 'nossa', 'interface', 'com', 'algumas', 'anotações', 'obrigatórias', 'para', 'que', 'o', 'Java', 'entenda', 'onde', 'e', 'quando', 'sua', 'anotação', 'pode', 'ser', 'utilizada,', 'sendo', 'elas:', '-', '@Retention', '-', 'Aqui', 'nós', 'falaremos', 'para', 'a', 'nossa', 'aplicação', 'até', 'quando', 'nossa', 'anotação', 'estará', 'disponível.', '-', '@Target', '-', 'Aqui', 'passaremos', 'os', 'elementos', 'que', 'podem', 'ser', 'anotados', 'com', 'essa', 'anotação.', 'Até', 'onde', 'nossa', 'anotação', 'estará', 'disponível?', 'Precisamos', 'que', 'ela', 'seja', 'executada', 'quando', 'o', 'usuário', 'enviar', 'os', 'seus', 'dados,', 'e', 'isso', 'acontece', 'quando', 'nossa', 'aplicação', 'está', 'rodando,', 'logo', 'precisamos', 'dela', 'em', 'tempo', 'de', 'execução,', '_Runtime_:', 'java', 'E', 'quem', 'será', 'anotado?', 'Que', 'elemento', 'faz', 'sentido', 'ser', 'anotado', 'com', 'uma', 'anotação', 'que', 'verifica', 'se', 'o', 'usuário', 'tem', 'idade', 'suficiente?', 'Um', 'atributo,', 'certo?', 'Logo,', 'um', '_Field:_', 'java', 'Agora', 'que', 'já', 'especificamos', 'o', 'contexto', 'da', 'nossa', 'anotação,', 'precisamos', 'falar', 'qual', 'a', 'idade', 'mínima', 'que', 'a', 'nossa', 'anotação', 'deve', 'usar', 'para', 'validar', 'a', 'idade', 'do']\n"
          ],
          "name": "stdout"
        }
      ]
    },
    {
      "cell_type": "code",
      "metadata": {
        "colab": {
          "base_uri": "https://localhost:8080/"
        },
        "id": "qS4QZmoXoesj",
        "outputId": "a02be941-6216-4f75-841c-b3d0d697e089"
      },
      "source": [
        " nltk.download('punkt')\n",
        "tokens = nltk.tokenize.word_tokenize(artigos)"
      ],
      "execution_count": null,
      "outputs": [
        {
          "output_type": "stream",
          "text": [
            "[nltk_data] Downloading package punkt to /root/nltk_data...\n",
            "[nltk_data]   Package punkt is already up-to-date!\n"
          ],
          "name": "stdout"
        }
      ]
    },
    {
      "cell_type": "code",
      "metadata": {
        "colab": {
          "base_uri": "https://localhost:8080/"
        },
        "id": "28kbS75xpZKc",
        "outputId": "03ec3bde-78e3-4126-eead-50b1f4de3c1d"
      },
      "source": [
        "print(tokens[:300])"
      ],
      "execution_count": null,
      "outputs": [
        {
          "output_type": "stream",
          "text": [
            "['imagem', 'Temos', 'a', 'seguinte', 'classe', 'que', 'representa', 'um', 'usuário', 'no', 'nosso', 'sistema', ':', 'java', 'Para', 'salvar', 'um', 'novo', 'usuário', ',', 'várias', 'validações', 'são', 'feitas', ',', 'como', 'por', 'exemplo', ':', 'Ver', 'se', 'o', 'nome', 'só', 'contém', 'letras', ',', '[', '**o', 'CPF', 'só', 'números**', ']', 'e', 'ver', 'se', 'o', 'usuário', 'possui', 'no', 'mínimo', '18', 'anos', '.', 'Veja', 'o', 'método', 'que', 'faz', 'essa', 'validação', ':', 'java', 'Suponha', 'agora', 'que', 'eu', 'tenha', 'outra', 'classe', ',', 'a', 'classe', '`Produto`', ',', 'que', 'contém', 'um', 'atributo', 'nome', 'e', 'eu', 'quero', 'fazer', 'a', 'mesma', 'validação', 'que', 'fiz', 'para', 'o', 'nome', 'do', 'usuário', ':', 'Ver', 'se', 'só', 'contém', 'letras', '.', 'E', 'aí', '?', 'Vou', 'criar', 'outro', 'método', 'para', 'fazer', 'a', 'mesma', 'validação', '?', 'Ou', 'criar', 'uma', 'interface', 'ou', 'uma', 'classe', 'que', 'tanto', '`Usuario`', 'quanto', '`Produto`', 'estendem', '?', 'Não', 'faz', 'muito', 'sentido', 'né', '?', 'Como', 'resolver', 'esse', 'caso', 'sem', 'repetir', 'código', '?', '#', '#', 'Anotações', 'No', 'Java', '5', 'um', 'novo', 'recurso', 'foi', 'introduzido', 'à', 'linguagem', ',', 'as', 'anotações', '.', 'Elas', 'permitem', 'que', 'metadados', 'sejam', 'escritos', 'diretamente', 'no', 'código', '.', 'Metadados', 'são', ',', 'por', 'definição', ',', 'dados', 'que', 'fazem', 'referência', 'aos', 'próprios', 'dados', '.', 'Para', 'nos', 'ajudar', 'a', 'entender', 'o', 'conceito', 'de', 'metadados', 'vou', 'usar', 'a', 'definição', 'feita', 'pelo', 'autor', 'Eduardo', 'Guerra', 'no', 'livro', '[', '**Componentes', 'Reutilizáveis', 'em', 'Java', 'com', 'Reflexão', 'e', 'Anotações**', ']', ':', '>', '``', '_No', 'contexto', 'da', 'orientação', 'a', 'objetos', ',', 'os', 'metadados', 'são', 'informações', 'sobre', 'os_', '_elementos', 'do', 'código', '.', 'Essas', 'informações', 'podem', 'ser', 'definidas', 'em', 'qualquer', 'meio', ',', '_', '_bastando', 'que', 'o', 'software', 'ou', 'componente', 'as', 'recupere', 'e', 'as', 'utilize', 'para', 'agregar', 'novas_', '_informações', 'nos', 'elementos', 'do', 'código', '.', '``', '_', 'Perceba', 'que', ',', 'por', 'si', 'só', ',', 'anotações', 'não', 'fazem', 'nada', '.', 'Elas', 'precisam', 'que', 'a', 'aplicação', 'as', 'recupere', 'e', 'as', 'utilize', ',', 'para', 'que', ',', 'só', 'assim', ',', 'elas', 'consigam', 'nos', 'fornecer', 'algo', 'que']\n"
          ],
          "name": "stdout"
        }
      ]
    },
    {
      "cell_type": "code",
      "metadata": {
        "colab": {
          "base_uri": "https://localhost:8080/"
        },
        "id": "vFA0o-rBqGFM",
        "outputId": "3a249d0e-82fe-4ac9-beba-2a727bb0ed07"
      },
      "source": [
        "len(tokens)"
      ],
      "execution_count": null,
      "outputs": [
        {
          "output_type": "execute_result",
          "data": {
            "text/plain": [
              "490772"
            ]
          },
          "metadata": {
            "tags": []
          },
          "execution_count": 66
        }
      ]
    },
    {
      "cell_type": "code",
      "metadata": {
        "colab": {
          "base_uri": "https://localhost:8080/"
        },
        "id": "oEyNCeMpqVrM",
        "outputId": "c97bd66d-dc76-4ef2-9653-2b799236f939"
      },
      "source": [
        "def separa_palavras(lista_tokens):\n",
        "    lista_palavras = []\n",
        "    for i in lista_tokens:\n",
        "      if i.isalpha():\n",
        "        lista_palavras.append(i)\n",
        "    return lista_palavras\n",
        "\n",
        "lista_de_palavras = separa_palavras(tokens)\n",
        "print(len(lista_de_palavras))"
      ],
      "execution_count": null,
      "outputs": [
        {
          "output_type": "stream",
          "text": [
            "393914\n"
          ],
          "name": "stdout"
        }
      ]
    },
    {
      "cell_type": "code",
      "metadata": {
        "colab": {
          "base_uri": "https://localhost:8080/"
        },
        "id": "AhDXJNcZr-s0",
        "outputId": "ed8b2ce5-2b99-4405-c039-2836cdb3e258"
      },
      "source": [
        "lista_de_palavras[:5]"
      ],
      "execution_count": null,
      "outputs": [
        {
          "output_type": "execute_result",
          "data": {
            "text/plain": [
              "['imagem', 'Temos', 'a', 'seguinte', 'classe']"
            ]
          },
          "metadata": {
            "tags": []
          },
          "execution_count": 68
        }
      ]
    },
    {
      "cell_type": "code",
      "metadata": {
        "colab": {
          "base_uri": "https://localhost:8080/"
        },
        "id": "G9xfAW2Utlok",
        "outputId": "88cd267e-39ed-400a-fdc0-b83f06b80adf"
      },
      "source": [
        "def normalizacao(lista_palavras):\n",
        "  lista_normalizada = []\n",
        "  for palavra in lista_palavras:\n",
        "    lista_normalizada.append(palavra.lower())\n",
        "  return lista_normalizada\n",
        "\n",
        "lista_normalizada = normalizacao(lista_de_palavras)\n",
        "print(lista_normalizada[:10])"
      ],
      "execution_count": null,
      "outputs": [
        {
          "output_type": "stream",
          "text": [
            "['imagem', 'temos', 'a', 'seguinte', 'classe', 'que', 'representa', 'um', 'usuário', 'no']\n"
          ],
          "name": "stdout"
        }
      ]
    },
    {
      "cell_type": "code",
      "metadata": {
        "colab": {
          "base_uri": "https://localhost:8080/"
        },
        "id": "xgUYPOL0uMDc",
        "outputId": "42ffb4a2-ec47-47b3-bc20-73471b3e7b11"
      },
      "source": [
        "len(set(lista_normalizada))"
      ],
      "execution_count": null,
      "outputs": [
        {
          "output_type": "execute_result",
          "data": {
            "text/plain": [
              "17652"
            ]
          },
          "metadata": {
            "tags": []
          },
          "execution_count": 70
        }
      ]
    },
    {
      "cell_type": "code",
      "metadata": {
        "id": "WADlgWzRIWu9"
      },
      "source": [
        "def insere_letras(fatias):\n",
        "  novas_palavras =[]\n",
        "  letras = 'abcdefghijklmnopqrstuvwxyzàáâãèéêìíîòóôõùúûç'\n",
        "  for E,D in fatias:\n",
        "    for letra in letras:\n",
        "      novas_palavras.append(E + letra +D)\n",
        "  return novas_palavras"
      ],
      "execution_count": null,
      "outputs": []
    },
    {
      "cell_type": "code",
      "metadata": {
        "id": "MyabYX6tuu5M"
      },
      "source": [
        "def gerador_palavras(palavra):\n",
        "  fatias = []\n",
        "  for i in range(len(palavra) + 1):\n",
        "    fatias.append((palavra[:i],palavra[i:]))\n",
        "    \n",
        "  palavras_geradas = insere_letras(fatias)\n",
        "  return palavras_geradas\n"
      ],
      "execution_count": null,
      "outputs": []
    },
    {
      "cell_type": "code",
      "metadata": {
        "id": "JGxWrhUYfOgW"
      },
      "source": [
        "from google.colab import drive\n",
        "drive.mount('/content/drive')"
      ],
      "execution_count": null,
      "outputs": []
    },
    {
      "cell_type": "code",
      "metadata": {
        "id": "RKufg4i3WK1A"
      },
      "source": [
        "def corretor(palavra):\n",
        "  palavras_geradas = gerador_palavras(palavra)\n",
        "  palavra_correta = max(palavras_geradas, key = probabilidade)\n",
        "  return palavra_correta"
      ],
      "execution_count": null,
      "outputs": []
    },
    {
      "cell_type": "code",
      "metadata": {
        "colab": {
          "base_uri": "https://localhost:8080/"
        },
        "id": "EdgBjat6WgIN",
        "outputId": "0b6fd024-8155-4401-e180-6f733b831c64"
      },
      "source": [
        "frequencia = nltk.FreqDist(lista_normalizada)\n",
        "def probabilidade(palavra):\n",
        "  return frequencia[palavra]/len(lista_normalizada)\n",
        "\n",
        "print(corretor('lgica'))"
      ],
      "execution_count": null,
      "outputs": [
        {
          "output_type": "stream",
          "text": [
            "lógica\n"
          ],
          "name": "stdout"
        }
      ]
    },
    {
      "cell_type": "code",
      "metadata": {
        "id": "Vxs28s0SW5Zn"
      },
      "source": [
        ""
      ],
      "execution_count": null,
      "outputs": []
    }
  ]
}